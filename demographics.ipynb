{
 "cells": [
  {
   "cell_type": "markdown",
   "id": "505b3b5b-6872-4fda-a6b1-c30fcfb70140",
   "metadata": {},
   "source": [
    "# Demographics\n",
    "\n",
    "This notebook contains code comparing the demographic makeup of each experimental group. "
   ]
  },
  {
   "cell_type": "code",
   "execution_count": 1,
   "id": "0078ff64-8beb-4c19-91ec-0c1a29b3d595",
   "metadata": {},
   "outputs": [
    {
     "name": "stdout",
     "output_type": "stream",
     "text": [
      "Controls:  47\n",
      "Stress:  49\n"
     ]
    }
   ],
   "source": [
    "import numpy as np\n",
    "import pandas as pd\n",
    "import scipy.stats as st \n",
    "from matplotlib import pyplot as plt\n",
    "from scipy import stats\n",
    "import seaborn as sns\n",
    "from plotnine import *\n",
    "import statsmodels.formula.api as sm\n",
    "from utils import *\n",
    "\n",
    "%run behav_starter.py\n",
    "\n",
    "warnings.filterwarnings('ignore', category=FutureWarning)"
   ]
  },
  {
   "cell_type": "code",
   "execution_count": 2,
   "id": "23a04ae8-85bd-4a62-9962-0bc3597b89e9",
   "metadata": {},
   "outputs": [
    {
     "name": "stdout",
     "output_type": "stream",
     "text": [
      "Control\n",
      "Total: 47\n",
      "Male number: 19\n",
      "Male percent: 40.43%\n",
      "Age range: 18.0 - 45.0\n",
      "Age median: 24.0\n",
      "\n",
      "Stress\n",
      "Total: 49\n",
      "Male number: 20\n",
      "Male percent: 40.82%\n",
      "Age range: 18.0 - 40.0\n",
      "Age median: 23.0\n",
      "\n",
      "All\n",
      "Male number: 39\n",
      "Male percent: 40.62%\n",
      "Age range: 18.0 - 45.0\n",
      "Age median: 24.0\n"
     ]
    }
   ],
   "source": [
    "logs_path = './data/questionnaires/StressLearn_logs.csv'\n",
    "demos_path = './data/questionnaires/StressLearn_Qs_demographics.csv'\n",
    "secpt_path = './data/questionnaires/StressLearn_secpt.csv'\n",
    "\n",
    "logs_df = pd.read_csv(logs_path)[[\"StressLearn_ID\", \"Group\", \"Sex\", \"Age\"]]\n",
    "logs_df[\"subid\"] = logs_df[\"StressLearn_ID\"].apply(lambda x: int(x[1:]))\n",
    "logs_df = logs_df[np.isin(logs_df[\"subid\"], subIDs)].drop(columns=\"StressLearn_ID\")\n",
    "\n",
    "demos_df = pd.read_csv(demos_path)\n",
    "demos_df[\"subid\"] = demos_df[\"subID\"].apply(lambda x: int(x[1:]))\n",
    "demos_df = demos_df[[\"subid\", \"Race_nu\", \"Hispanic\"]]\n",
    "\n",
    "logs_df = pd.merge(logs_df, demos_df, on=\"subid\", how=\"left\").reset_index(drop=True)\n",
    "\n",
    "groups = [\"Control\", \"Stress\"]\n",
    "\n",
    "for group in groups:\n",
    "    grp_logs_df = logs_df[logs_df[\"Group\"] == group]\n",
    "    print(group)\n",
    "\n",
    "    n_total = len(grp_logs_df)\n",
    "    print(f'Total: {n_total}')\n",
    "    \n",
    "    n_male = len(grp_logs_df[grp_logs_df[\"Sex\"] == \"Male\"])\n",
    "    print(f'Male number: {n_male}')\n",
    "    print(f'Male percent: {100*n_male/len(grp_logs_df):.02f}%')\n",
    "    \n",
    "    print(f'Age range: {np.min(grp_logs_df[\"Age\"])} - {np.max(grp_logs_df[\"Age\"])}')\n",
    "    print(f'Age median: {np.median(grp_logs_df[\"Age\"])}')\n",
    "\n",
    "    print()\n",
    "\n",
    "print(\"All\")\n",
    "n_total = len(logs_df)\n",
    "n_male = len(logs_df[logs_df[\"Sex\"] == \"Male\"])\n",
    "print(f'Male number: {n_male}')\n",
    "print(f'Male percent: {100*n_male/len(logs_df):.02f}%')\n",
    "\n",
    "print(f'Age range: {np.min(logs_df[\"Age\"])} - {np.max(logs_df[\"Age\"])}')\n",
    "print(f'Age median: {np.median(logs_df[\"Age\"])}')\n"
   ]
  },
  {
   "cell_type": "markdown",
   "id": "f014127d-2fb9-4f85-a2e5-485b348268cf",
   "metadata": {},
   "source": [
    "## Compare age across groups"
   ]
  },
  {
   "cell_type": "code",
   "execution_count": 3,
   "id": "08e7a8f3-9bac-4900-9122-ccab2c77005d",
   "metadata": {},
   "outputs": [
    {
     "data": {
      "text/plain": [
       "TtestResult(statistic=1.3957733387428097, pvalue=0.16607093664788028, df=94.0)"
      ]
     },
     "execution_count": 3,
     "metadata": {},
     "output_type": "execute_result"
    }
   ],
   "source": [
    "ctrl_age = np.array(logs_df[logs_df[\"Group\"] == \"Control\"][\"Age\"])\n",
    "stress_age = np.array(logs_df[logs_df[\"Group\"] == \"Stress\"][\"Age\"])\n",
    "\n",
    "scipy.stats.ttest_ind(ctrl_age, stress_age)"
   ]
  },
  {
   "cell_type": "markdown",
   "id": "578d67a7-b259-492a-a394-7d5d78281b79",
   "metadata": {},
   "source": [
    "## Compare sex across groups"
   ]
  },
  {
   "cell_type": "code",
   "execution_count": 4,
   "id": "1e7cbaee-26ed-43e0-9760-2fd01c70f660",
   "metadata": {},
   "outputs": [
    {
     "data": {
      "text/plain": [
       "Chi2ContingencyResult(statistic=0.0, pvalue=1.0, dof=1, expected_freq=array([[27.90625, 19.09375],\n",
       "       [29.09375, 19.90625]]))"
      ]
     },
     "execution_count": 4,
     "metadata": {},
     "output_type": "execute_result"
    }
   ],
   "source": [
    "ctrl_sex = np.array(logs_df[logs_df[\"Group\"] == \"Control\"].groupby(\"Sex\").count()[\"subid\"])\n",
    "stress_sex = np.array(logs_df[logs_df[\"Group\"] == \"Stress\"].groupby(\"Sex\").count()[\"subid\"])\n",
    "\n",
    "scipy.stats.chi2_contingency(np.array([ctrl_sex, stress_sex]), correction=True)"
   ]
  },
  {
   "cell_type": "markdown",
   "id": "3fd52cec-38b0-4d78-a3cb-15b18a4086aa",
   "metadata": {},
   "source": [
    "## Compare PSS score across groups"
   ]
  },
  {
   "cell_type": "code",
   "execution_count": 5,
   "id": "6fe6534d-8d81-4b97-906f-cd0acc99e15c",
   "metadata": {},
   "outputs": [],
   "source": [
    "def pss_recode(col, s):\n",
    "    if col in ['pss_2', 'pss_3', 'pss_4', 'pss_7', 'pss_10', 'pss_11']:\n",
    "        pss_dic = {\"Never\": 0, \"Almost Never\": 1, \"Sometimes\": 2, \"Fairly Often\": 3, \"Very Often\": 4}\n",
    "    elif col in ['pss_5', 'pss_6', 'pss_8', 'pss_9']:\n",
    "        pss_dic = {\"Never\": 4, \"Almost Never\": 3, \"Sometimes\": 2, \"Fairly Often\": 1, \"Very Often\": 0}\n",
    "\n",
    "    return pss_dic[s]"
   ]
  },
  {
   "cell_type": "code",
   "execution_count": 6,
   "id": "5d57e74d-f06f-4305-992e-218ab42b4b98",
   "metadata": {},
   "outputs": [
    {
     "data": {
      "text/plain": [
       "TtestResult(statistic=0.6932851944916656, pvalue=0.4898400926250366, df=94.0)"
      ]
     },
     "execution_count": 6,
     "metadata": {},
     "output_type": "execute_result"
    }
   ],
   "source": [
    "pss_file = \"./data/questionnaires/StressLearn_Qs_PSS.csv\"\n",
    "subid_col = \"src_subject_id\"\n",
    "pss_cols = [\"pss_2\", \"pss_3\", \"pss_4\", \"pss_5\", \"pss_6\", \"pss_7\", \"pss_8\", \"pss_9\", \"pss_10\", \"pss_11\"]\n",
    "\n",
    "pss_df = pd.read_csv(pss_file)[[subid_col] + pss_cols].iloc[2:].reset_index(drop=True).rename(columns = {\"src_subject_id\": \"subID\"})\n",
    "\n",
    "for col in pss_cols:\n",
    "    pss_df[col] = pss_df[col].apply(lambda x: pss_recode(col, x))\n",
    "\n",
    "pss_df[\"score\"] = pss_df.mean(axis=1, numeric_only=True)\n",
    "pss_df[\"subID\"] = pss_df[\"subID\"].apply(lambda x: int(x[1:]))\n",
    "pss_df = pd.merge(pss_df, subid2group, on=\"subID\", how=\"left\")\n",
    "pss_df = pss_df[np.isin(pss_df[\"subID\"], subIDs)]# filter to include only participants eligible for behav analysis\n",
    "\n",
    "ctrl_pss = np.array(pss_df[pss_df[\"group\"] == \"Control\"][\"score\"])\n",
    "stress_pss = np.array(pss_df[pss_df[\"group\"] == \"Stress\"][\"score\"])\n",
    "scipy.stats.ttest_ind(ctrl_pss, stress_pss)"
   ]
  },
  {
   "cell_type": "markdown",
   "id": "aca28563-ee35-49f7-b6e0-31dbaa369a08",
   "metadata": {},
   "source": [
    "## Demographics across scanners"
   ]
  },
  {
   "cell_type": "code",
   "execution_count": 24,
   "id": "eae57cc7-2604-4956-9626-b6f66c45be37",
   "metadata": {},
   "outputs": [
    {
     "name": "stdout",
     "output_type": "stream",
     "text": [
      "Controls:  43\n",
      "Stress:  45\n",
      "\n",
      "BIC\n",
      "Control\n",
      "Total: 21\n",
      "Male number: 5\n",
      "Male percent: 23.81%\n",
      "Age range: 18.0 - 35.0\n",
      "Age median: 24.0\n",
      "\n",
      "Stress\n",
      "Total: 21\n",
      "Male number: 6\n",
      "Male percent: 28.57%\n",
      "Age range: 18.0 - 28.0\n",
      "Age median: 23.0\n",
      "\n",
      "\n",
      "Brainworks\n",
      "Control\n",
      "Total: 22\n",
      "Male number: 14\n",
      "Male percent: 63.64%\n",
      "Age range: 18.0 - 45.0\n",
      "Age median: 25.0\n",
      "\n",
      "Stress\n",
      "Total: 24\n",
      "Male number: 12\n",
      "Male percent: 50.00%\n",
      "Age range: 18.0 - 40.0\n",
      "Age median: 22.0\n",
      "\n",
      "\n"
     ]
    }
   ],
   "source": [
    "%run fmri_starter.py\n",
    "print()\n",
    "\n",
    "logs_df = pd.read_csv(logs_path)[[\"StressLearn_ID\", \"Group\", \"Sex\", \"Age\"]]\n",
    "logs_df[\"subid\"] = logs_df[\"StressLearn_ID\"].apply(lambda x: int(x[1:]))\n",
    "logs_df = logs_df[np.isin(logs_df[\"subid\"], subIDs)].drop(columns=\"StressLearn_ID\")\n",
    "\n",
    "brainworks_first_sub = 56\n",
    "\n",
    "bic_logs_df = logs_df[logs_df['subid'] < 56]\n",
    "brainworks_logs_df = logs_df[logs_df['subid'] >= 56]\n",
    "\n",
    "for site, df in zip([\"BIC\", \"Brainworks\"], [bic_logs_df, brainworks_logs_df]):\n",
    "    print(site)\n",
    "    for group in groups:\n",
    "        grp_df = df[df[\"Group\"] == group]\n",
    "        print(group)\n",
    "\n",
    "        n_total = len(grp_df)\n",
    "        print(f'Total: {n_total}')\n",
    "        n_male = len(grp_df[grp_df[\"Sex\"] == \"Male\"])\n",
    "        print(f'Male number: {n_male}')\n",
    "        print(f'Male percent: {100*n_male/n_total:.02f}%')\n",
    "        \n",
    "        print(f'Age range: {np.min(grp_df[\"Age\"])} - {np.max(grp_df[\"Age\"])}')\n",
    "        print(f'Age median: {np.median(grp_df[\"Age\"])}')\n",
    "    \n",
    "        print()\n",
    "    print()\n",
    "\n"
   ]
  },
  {
   "cell_type": "markdown",
   "id": "bc69fe59-4a34-4ebe-a4fa-1654764c787f",
   "metadata": {},
   "source": [
    "## SECPT water temperature"
   ]
  },
  {
   "cell_type": "code",
   "execution_count": 18,
   "id": "443f32ab-a0e9-4fdd-a639-0a0db4567aaf",
   "metadata": {},
   "outputs": [
    {
     "name": "stdout",
     "output_type": "stream",
     "text": [
      "Mean stress secpt temp 2.7916666666666665\n",
      "SD stress secpt temp 1.0197698542100346\n",
      "Mean control secpt temp 36.276595744680854\n",
      "SD control secpt temp 4.210938782780191\n"
     ]
    }
   ],
   "source": [
    "secpt_df = pd.read_csv(secpt_path)\n",
    "secpt_df[\"subID\"] = secpt_df[\"StressLearn ID\"].apply(lambda x: int(x[1:]))\n",
    "secpt_df = secpt_df[np.isin(secpt_df[\"subID\"], subIDs)].drop(columns=\"StressLearn ID\").dropna().reset_index()\n",
    "\n",
    "print(\"Mean stress secpt temp\", np.mean(secpt_df[secpt_df[\"Group\"] == \"stress\"][\"SECPT water temperature\"]))\n",
    "print(\"SD stress secpt temp\", np.std(secpt_df[secpt_df[\"Group\"] == \"stress\"][\"SECPT water temperature\"]))\n",
    "print(\"Mean control secpt temp\", np.mean(secpt_df[secpt_df[\"Group\"] == \"control\"][\"SECPT water temperature\"]))\n",
    "print(\"SD control secpt temp\", np.std(secpt_df[secpt_df[\"Group\"] == \"control\"][\"SECPT water temperature\"]))"
   ]
  }
 ],
 "metadata": {
  "kernelspec": {
   "display_name": "Python 3 (ipykernel)",
   "language": "python",
   "name": "python3"
  },
  "language_info": {
   "codemirror_mode": {
    "name": "ipython",
    "version": 3
   },
   "file_extension": ".py",
   "mimetype": "text/x-python",
   "name": "python",
   "nbconvert_exporter": "python",
   "pygments_lexer": "ipython3",
   "version": "3.10.6"
  }
 },
 "nbformat": 4,
 "nbformat_minor": 5
}
